{
 "cells": [
  {
   "cell_type": "code",
   "execution_count": 1,
   "metadata": {},
   "outputs": [],
   "source": [
    "from engine.task import task"
   ]
  },
  {
   "cell_type": "code",
   "execution_count": 6,
   "metadata": {},
   "outputs": [
    {
     "name": "stdout",
     "output_type": "stream",
     "text": [
      "add state: TaskState.RUNNING, Input: (1, 2)\n",
      "add state: TaskState.SUCCESS, Duration: 0:00:00.000059, Output: 3\n",
      "{'name': 'add', 'state': 'SUCCESS', 'start_time': '2024-05-30T14:56:23.088401', 'end_time': '2024-05-30T14:56:23.088460', 'duration': 5.9e-05, 'input_data': (1, 2), 'output_data': 3, 'error_message': None, 'retries': 0}\n",
      "3\n"
     ]
    }
   ],
   "source": [
    "@task()\n",
    "def add(a, b):\n",
    "    return a + b\n",
    "\n",
    "# Calling the decorated function\n",
    "task_result, result = add(1, 2)\n",
    "print(task_result.to_dict())\n",
    "print(result)\n"
   ]
  },
  {
   "cell_type": "code",
   "execution_count": 10,
   "metadata": {},
   "outputs": [],
   "source": [
    "from surrealdb import Surreal\n",
    "\n",
    "\n",
    "# delete all data\n",
    "\n",
    "async with Surreal(\"ws://localhost:8000/rpc\") as db:\n",
    "    await db.signin({\"user\": \"root\", \"pass\": \"root\"})\n",
    "    await db.use(\"test\", \"test\")\n",
    "    await db.delete(f'task_results')\n",
    "    await db.delete(f'workflow_results')\n",
    "    await db.delete(f'workflow_status')\n"
   ]
  },
  {
   "cell_type": "code",
   "execution_count": 7,
   "metadata": {},
   "outputs": [
    {
     "name": "stdout",
     "output_type": "stream",
     "text": [
      "[{'result': [{'duration': 9.7e-05, 'end_time': '2024-05-30T16:57:52.502712', 'error_message': \"'NoneType' object is not subscriptable\", 'id': 'workflow_results:123', 'job_id': '123', 'name': 'multichat', 'start_time': '2024-05-30T16:57:52.502615', 'state': 'FAILED', 'tasks': []}], 'status': 'OK', 'time': '34.417µs'}]\n"
     ]
    }
   ],
   "source": [
    "async with Surreal(\"ws://localhost:8000/rpc\") as db:\n",
    "    await db.signin({\"user\": \"root\", \"pass\": \"root\"})\n",
    "    await db.use(\"test\", \"test\")\n",
    "    res = await db.query(\"select * from workflow_results\")\n",
    "    print(res)\n",
    "\n"
   ]
  },
  {
   "cell_type": "code",
   "execution_count": null,
   "metadata": {},
   "outputs": [],
   "source": []
  }
 ],
 "metadata": {
  "kernelspec": {
   "display_name": "base",
   "language": "python",
   "name": "python3"
  },
  "language_info": {
   "codemirror_mode": {
    "name": "ipython",
    "version": 3
   },
   "file_extension": ".py",
   "mimetype": "text/x-python",
   "name": "python",
   "nbconvert_exporter": "python",
   "pygments_lexer": "ipython3",
   "version": "3.10.12"
  }
 },
 "nbformat": 4,
 "nbformat_minor": 2
}
