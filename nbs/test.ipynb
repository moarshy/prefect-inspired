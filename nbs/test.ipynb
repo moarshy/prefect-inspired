{
 "cells": [
  {
   "cell_type": "code",
   "execution_count": 1,
   "metadata": {},
   "outputs": [],
   "source": [
    "from engine.task import task"
   ]
  },
  {
   "cell_type": "code",
   "execution_count": 6,
   "metadata": {},
   "outputs": [
    {
     "name": "stdout",
     "output_type": "stream",
     "text": [
      "add state: TaskState.RUNNING, Input: (1, 2)\n",
      "add state: TaskState.SUCCESS, Duration: 0:00:00.000059, Output: 3\n",
      "{'name': 'add', 'state': 'SUCCESS', 'start_time': '2024-05-30T14:56:23.088401', 'end_time': '2024-05-30T14:56:23.088460', 'duration': 5.9e-05, 'input_data': (1, 2), 'output_data': 3, 'error_message': None, 'retries': 0}\n",
      "3\n"
     ]
    }
   ],
   "source": [
    "@task()\n",
    "def add(a, b):\n",
    "    return a + b\n",
    "\n",
    "# Calling the decorated function\n",
    "task_result, result = add(1, 2)\n",
    "print(task_result.to_dict())\n",
    "print(result)\n"
   ]
  },
  {
   "cell_type": "code",
   "execution_count": null,
   "metadata": {},
   "outputs": [],
   "source": []
  }
 ],
 "metadata": {
  "kernelspec": {
   "display_name": "base",
   "language": "python",
   "name": "python3"
  },
  "language_info": {
   "codemirror_mode": {
    "name": "ipython",
    "version": 3
   },
   "file_extension": ".py",
   "mimetype": "text/x-python",
   "name": "python",
   "nbconvert_exporter": "python",
   "pygments_lexer": "ipython3",
   "version": "3.10.12"
  }
 },
 "nbformat": 4,
 "nbformat_minor": 2
}
